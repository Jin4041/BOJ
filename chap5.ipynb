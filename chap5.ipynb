{
  "nbformat": 4,
  "nbformat_minor": 0,
  "metadata": {
    "colab": {
      "provenance": [],
      "toc_visible": true,
      "authorship_tag": "ABX9TyPmaO9xTVs3IrJj+3KLfas8",
      "include_colab_link": true
    },
    "kernelspec": {
      "name": "python3",
      "display_name": "Python 3"
    },
    "language_info": {
      "name": "python"
    }
  },
  "cells": [
    {
      "cell_type": "markdown",
      "metadata": {
        "id": "view-in-github",
        "colab_type": "text"
      },
      "source": [
        "<a href=\"https://colab.research.google.com/github/Jin4041/BOJ/blob/main/chap5.ipynb\" target=\"_parent\"><img src=\"https://colab.research.google.com/assets/colab-badge.svg\" alt=\"Open In Colab\"/></a>"
      ]
    },
    {
      "cell_type": "markdown",
      "source": [
        "mnist에 백색 잡음 픽셀과 0픽셀 추가"
      ],
      "metadata": {
        "id": "Sz9nubBw75QQ"
      }
    },
    {
      "cell_type": "code",
      "execution_count": null,
      "metadata": {
        "id": "YcUQKXXby7Yw",
        "colab": {
          "base_uri": "https://localhost:8080/"
        },
        "outputId": "34a24256-5ad1-4cd8-a7ae-bb72c2b22675"
      },
      "outputs": [
        {
          "output_type": "stream",
          "name": "stdout",
          "text": [
            "Downloading data from https://storage.googleapis.com/tensorflow/tf-keras-datasets/mnist.npz\n",
            "11490434/11490434 [==============================] - 0s 0us/step\n"
          ]
        }
      ],
      "source": [
        "from tensorflow.keras.datasets import mnist\n",
        "import numpy as np\n",
        "\n",
        "(train_images,train_labels), _ =mnist.load_data()\n",
        "train_images=train_images.reshape((60000,28*28))\n",
        "train_images=train_images.astype(\"float32\")/255\n",
        "train_images_with_noise_channels=np.concatenate(\n",
        "    [train_images, np.random.random((len(train_images),784))],axis=1)\n",
        "train_images_with_zeros_channels=np.concatenate(\n",
        "    [train_images, np.zeros((len(train_images),784))],axis=1)"
      ]
    },
    {
      "cell_type": "markdown",
      "source": [
        "백색 잡음과 0 추가한 mnist 데이터에서 모델 훈련"
      ],
      "metadata": {
        "id": "wCZMgie77-YJ"
      }
    },
    {
      "cell_type": "code",
      "source": [
        "from tensorflow import keras\n",
        "from tensorflow.keras import layers\n",
        "\n",
        "def get_model():\n",
        "  model=keras.Sequential([\n",
        "      layers.Dense(512,activation=\"relu\"),\n",
        "      layers.Dense(10,activation=\"softmax\")\n",
        "  ])\n",
        "  model.compile(optimizer=\"rmsprop\",\n",
        "                loss=\"sparse_categorical_crossentropy\",\n",
        "                metrics=[\"accuracy\"])\n",
        "  return model"
      ],
      "metadata": {
        "id": "wB-SR1VD0pPC"
      },
      "execution_count": null,
      "outputs": []
    },
    {
      "cell_type": "code",
      "source": [
        "model=get_model()\n",
        "history_noise=model.fit(\n",
        "    train_images_with_noise_channels,train_labels,\n",
        "    epochs=10,\n",
        "    batch_size=128,\n",
        "    validation_split=0.2)\n",
        "\n",
        "moel=get_model()\n",
        "history_zeros=model.fit(\n",
        "    train_images_with_zeros_channels,train_labels,\n",
        "    epochs=10,\n",
        "    batch_size=128,\n",
        "    validation_split=0.2)"
      ],
      "metadata": {
        "colab": {
          "base_uri": "https://localhost:8080/"
        },
        "id": "-CtIio6Q1vLW",
        "outputId": "1f51fa3e-ddf7-4701-bebb-2b98f03bfe7f"
      },
      "execution_count": null,
      "outputs": [
        {
          "output_type": "stream",
          "name": "stdout",
          "text": [
            "Epoch 1/10\n",
            "375/375 [==============================] - 16s 40ms/step - loss: 0.6037 - accuracy: 0.8115 - val_loss: 0.2495 - val_accuracy: 0.9247\n",
            "Epoch 2/10\n",
            "375/375 [==============================] - 9s 23ms/step - loss: 0.2533 - accuracy: 0.9213 - val_loss: 0.2239 - val_accuracy: 0.9317\n",
            "Epoch 3/10\n",
            "375/375 [==============================] - 7s 18ms/step - loss: 0.1624 - accuracy: 0.9501 - val_loss: 0.1620 - val_accuracy: 0.9512\n",
            "Epoch 4/10\n",
            "375/375 [==============================] - 10s 26ms/step - loss: 0.1170 - accuracy: 0.9642 - val_loss: 0.1524 - val_accuracy: 0.9521\n",
            "Epoch 5/10\n",
            "375/375 [==============================] - 10s 26ms/step - loss: 0.0850 - accuracy: 0.9730 - val_loss: 0.1372 - val_accuracy: 0.9606\n",
            "Epoch 6/10\n",
            "375/375 [==============================] - 9s 25ms/step - loss: 0.0626 - accuracy: 0.9802 - val_loss: 0.1268 - val_accuracy: 0.9632\n",
            "Epoch 7/10\n",
            "375/375 [==============================] - 10s 26ms/step - loss: 0.0468 - accuracy: 0.9855 - val_loss: 0.1126 - val_accuracy: 0.9667\n",
            "Epoch 8/10\n",
            "375/375 [==============================] - 11s 30ms/step - loss: 0.0367 - accuracy: 0.9883 - val_loss: 0.1274 - val_accuracy: 0.9667\n",
            "Epoch 9/10\n",
            "375/375 [==============================] - 8s 22ms/step - loss: 0.0272 - accuracy: 0.9914 - val_loss: 0.1146 - val_accuracy: 0.9709\n",
            "Epoch 10/10\n",
            "375/375 [==============================] - 7s 17ms/step - loss: 0.0187 - accuracy: 0.9941 - val_loss: 0.1110 - val_accuracy: 0.9717\n",
            "Epoch 1/10\n",
            "375/375 [==============================] - 12s 31ms/step - loss: 0.0507 - accuracy: 0.9837 - val_loss: 0.0788 - val_accuracy: 0.9768\n",
            "Epoch 2/10\n",
            "375/375 [==============================] - 13s 34ms/step - loss: 0.0361 - accuracy: 0.9890 - val_loss: 0.0809 - val_accuracy: 0.9773\n",
            "Epoch 3/10\n",
            "375/375 [==============================] - 12s 33ms/step - loss: 0.0280 - accuracy: 0.9918 - val_loss: 0.0805 - val_accuracy: 0.9775\n",
            "Epoch 4/10\n",
            "375/375 [==============================] - 12s 32ms/step - loss: 0.0218 - accuracy: 0.9935 - val_loss: 0.0763 - val_accuracy: 0.9787\n",
            "Epoch 5/10\n",
            "375/375 [==============================] - 11s 30ms/step - loss: 0.0169 - accuracy: 0.9954 - val_loss: 0.0773 - val_accuracy: 0.9787\n",
            "Epoch 6/10\n",
            "375/375 [==============================] - 11s 29ms/step - loss: 0.0135 - accuracy: 0.9966 - val_loss: 0.0779 - val_accuracy: 0.9796\n",
            "Epoch 7/10\n",
            "375/375 [==============================] - 10s 26ms/step - loss: 0.0101 - accuracy: 0.9977 - val_loss: 0.0801 - val_accuracy: 0.9783\n",
            "Epoch 8/10\n",
            "375/375 [==============================] - 10s 27ms/step - loss: 0.0077 - accuracy: 0.9985 - val_loss: 0.0813 - val_accuracy: 0.9797\n",
            "Epoch 9/10\n",
            "375/375 [==============================] - 9s 23ms/step - loss: 0.0062 - accuracy: 0.9987 - val_loss: 0.0814 - val_accuracy: 0.9798\n",
            "Epoch 10/10\n",
            "375/375 [==============================] - 7s 20ms/step - loss: 0.0044 - accuracy: 0.9993 - val_loss: 0.0835 - val_accuracy: 0.9800\n"
          ]
        }
      ]
    },
    {
      "cell_type": "markdown",
      "source": [
        "검증 정확도 비교 그래프 그리기"
      ],
      "metadata": {
        "id": "clVJL7rc8DQ5"
      }
    },
    {
      "cell_type": "code",
      "source": [
        "import matplotlib.pyplot as plt\n",
        "\n",
        "val_acc_noise=history_noise.history[\"val_accuracy\"]\n",
        "val_acc_zeros=history_zeros.history[\"val_accuracy\"]\n",
        "epochs=range(1,11)\n",
        "plt.plot(epochs,val_acc_noise,\"b-\",\n",
        "         label=\"Validation accuracy with noise channels\")\n",
        "plt.plot(epochs,val_acc_zeros,\"b--\",\n",
        "         label=\"Validation accuracy with zeros channels\")\n",
        "plt.title(\"Effect of noise channels on validation accuracy\")\n",
        "plt.xlabel(\"Epochs\")\n",
        "plt.ylabel(\"Accuracy\")\n",
        "plt.legend()\n",
        "plt.show()"
      ],
      "metadata": {
        "colab": {
          "base_uri": "https://localhost:8080/",
          "height": 472
        },
        "id": "FLWw1Ar52P3_",
        "outputId": "7882c77e-cfe9-41c0-d89a-6697198851b5"
      },
      "execution_count": null,
      "outputs": [
        {
          "output_type": "display_data",
          "data": {
            "text/plain": [
              "<Figure size 640x480 with 1 Axes>"
            ],
            "image/png": "[encoded data removed]"
          },
          "metadata": {}
        }
      ]
    },
    {
      "cell_type": "markdown",
      "source": [
        "홀드아웃 검증 구현 예"
      ],
      "metadata": {
        "id": "jLniJB7S8Q2W"
      }
    },
    {
      "cell_type": "code",
      "source": [
        "num_validation_samples=100000\n",
        "np.random.shuffle(data)\n",
        "validation_data=data[:num_validation_samples]\n",
        "training_data=data[num_validation_samples:]\n",
        "model=get_model()\n",
        "model.fit(training_data,...)\n",
        "model=get_model()\n",
        "model.fit(training_data,...)\n",
        "model=get_model()\n",
        "model.fit(training_data,...)\n",
        "model=get_model()\n",
        "model.fit(training_data,...)\n",
        "model=get_model()\n",
        "model.fit(np.concatenate([training_data,\n",
        "                          validation_data]),...)\n",
        "test_score=model.evaluate(test_data,...)"
      ],
      "metadata": {
        "id": "nb3WEB4P8f_D"
      },
      "execution_count": null,
      "outputs": []
    },
    {
      "cell_type": "markdown",
      "source": [
        "k-겹 교차 검증 구현 예"
      ],
      "metadata": {
        "id": "MNnOrWE18gU5"
      }
    },
    {
      "cell_type": "code",
      "source": [
        "k=3\n",
        "num_validation_samples=len(data)//k\n",
        "np.random.shuffle(data)\n",
        "validation_score=[]\n",
        "for fold in range(k):\n",
        "  validation_data=data[num_validation_samples*fold:\n",
        "                       num_validation_samples*(fold+1)]\n",
        "  training_data=np.concatenate(\n",
        "      data[:num_validation_samples*fold],\n",
        "      data[num_validation_samples*(fold+1):])\n",
        "  model=get_model()\n",
        "  model.fit(training_data,...)\n",
        "  validation_score=model.evaluate(validation_data,...)\n",
        "  validation_score.append(validation_score)\n",
        "  validation_score=np.average(validation_score)\n",
        "model=get_model()\n",
        "model.fit(data,...)\n",
        "test_score=model.evaluate(test_data,...)"
      ],
      "metadata": {
        "id": "waubeLVs5FaS"
      },
      "execution_count": null,
      "outputs": []
    },
    {
      "cell_type": "markdown",
      "source": [
        "학습률 1.0으로 훈련"
      ],
      "metadata": {
        "id": "9fPgCygy7rh1"
      }
    },
    {
      "cell_type": "code",
      "source": [
        "(train_images,train_labels), _ =mnist.load_data()\n",
        "train_images=train_images.reshape((60000,28*28))\n",
        "train_images=train_images.astype(\"float32\")/255\n",
        "\n",
        "model=keras.Sequential([\n",
        "    layers.Dense(512,activation=\"relu\"),\n",
        "    layers.Dense(10,activation=\"softmax\")\n",
        "])\n",
        "model.compile(optimizer=keras.optimizers.RMSprop(1.),\n",
        "                loss=\"sparse_categorical_crossentropy\",\n",
        "                metrics=[\"accuracy\"])\n",
        "model.fit(\n",
        "  train_images_with_zeros_channels,train_labels,\n",
        "  epochs=10,\n",
        "  batch_size=128,\n",
        "  validation_split=0.2)"
      ],
      "metadata": {
        "colab": {
          "base_uri": "https://localhost:8080/"
        },
        "id": "kOv-Flub6yOe",
        "outputId": "f18ef654-e589-4f2d-f2f3-0810446aa750"
      },
      "execution_count": null,
      "outputs": [
        {
          "output_type": "stream",
          "name": "stdout",
          "text": [
            "Epoch 1/10\n",
            "375/375 [==============================] - 8s 21ms/step - loss: 570.6828 - accuracy: 0.2962 - val_loss: 2.2800 - val_accuracy: 0.1937\n",
            "Epoch 2/10\n",
            "375/375 [==============================] - 15s 39ms/step - loss: 3.0659 - accuracy: 0.1897 - val_loss: 2.2592 - val_accuracy: 0.2083\n",
            "Epoch 3/10\n",
            "375/375 [==============================] - 10s 26ms/step - loss: 2.7115 - accuracy: 0.1962 - val_loss: 2.3236 - val_accuracy: 0.1832\n",
            "Epoch 4/10\n",
            "375/375 [==============================] - 6s 17ms/step - loss: 2.6987 - accuracy: 0.2243 - val_loss: 2.1498 - val_accuracy: 0.2586\n",
            "Epoch 5/10\n",
            "375/375 [==============================] - 8s 22ms/step - loss: 2.4747 - accuracy: 0.2176 - val_loss: 2.2212 - val_accuracy: 0.2148\n",
            "Epoch 6/10\n",
            "375/375 [==============================] - 10s 26ms/step - loss: 2.3041 - accuracy: 0.2103 - val_loss: 2.0674 - val_accuracy: 0.1923\n",
            "Epoch 7/10\n",
            "375/375 [==============================] - 11s 29ms/step - loss: 2.4342 - accuracy: 0.2030 - val_loss: 2.1268 - val_accuracy: 0.2141\n",
            "Epoch 8/10\n",
            "375/375 [==============================] - 10s 26ms/step - loss: 2.3219 - accuracy: 0.2137 - val_loss: 2.2948 - val_accuracy: 0.2397\n",
            "Epoch 9/10\n",
            "375/375 [==============================] - 9s 23ms/step - loss: 2.3750 - accuracy: 0.2238 - val_loss: 2.3879 - val_accuracy: 0.2302\n",
            "Epoch 10/10\n",
            "375/375 [==============================] - 7s 18ms/step - loss: 2.4810 - accuracy: 0.2279 - val_loss: 2.0925 - val_accuracy: 0.2127\n"
          ]
        },
        {
          "output_type": "execute_result",
          "data": {
            "text/plain": [
              "<keras.src.callbacks.History at 0x7f17927228c0>"
            ]
          },
          "metadata": {},
          "execution_count": 10
        }
      ]
    },
    {
      "cell_type": "markdown",
      "source": [
        "학습률 1e-2로 훈련"
      ],
      "metadata": {
        "id": "Xe_Evgbp7xJW"
      }
    },
    {
      "cell_type": "code",
      "source": [
        "model=keras.Sequential([\n",
        "    layers.Dense(512,activation=\"relu\"),\n",
        "    layers.Dense(10,activation=\"softmax\")\n",
        "])\n",
        "model.compile(optimizer=keras.optimizers.RMSprop(1e-2),\n",
        "                loss=\"sparse_categorical_crossentropy\",\n",
        "                metrics=[\"accuracy\"])\n",
        "model.fit(\n",
        "  train_images_with_zeros_channels,train_labels,\n",
        "  epochs=10,\n",
        "  batch_size=128,\n",
        "  validation_split=0.2)"
      ],
      "metadata": {
        "colab": {
          "base_uri": "https://localhost:8080/"
        },
        "id": "PhvtKaGh7g86",
        "outputId": "2fe72a7f-0dbd-456e-80eb-8e418ca4927b"
      },
      "execution_count": null,
      "outputs": [
        {
          "output_type": "stream",
          "name": "stdout",
          "text": [
            "Epoch 1/10\n",
            "375/375 [==============================] - 8s 21ms/step - loss: 0.3483 - accuracy: 0.9132 - val_loss: 0.1804 - val_accuracy: 0.9497\n",
            "Epoch 2/10\n",
            "375/375 [==============================] - 7s 18ms/step - loss: 0.1280 - accuracy: 0.9650 - val_loss: 0.1212 - val_accuracy: 0.9692\n",
            "Epoch 3/10\n",
            "375/375 [==============================] - 8s 22ms/step - loss: 0.0954 - accuracy: 0.9745 - val_loss: 0.1502 - val_accuracy: 0.9655\n",
            "Epoch 4/10\n",
            "375/375 [==============================] - 7s 19ms/step - loss: 0.0784 - accuracy: 0.9799 - val_loss: 0.1607 - val_accuracy: 0.9718\n",
            "Epoch 5/10\n",
            "375/375 [==============================] - 9s 23ms/step - loss: 0.0689 - accuracy: 0.9830 - val_loss: 0.1456 - val_accuracy: 0.9722\n",
            "Epoch 6/10\n",
            "375/375 [==============================] - 10s 26ms/step - loss: 0.0551 - accuracy: 0.9853 - val_loss: 0.1829 - val_accuracy: 0.9703\n",
            "Epoch 7/10\n",
            "375/375 [==============================] - 7s 18ms/step - loss: 0.0507 - accuracy: 0.9875 - val_loss: 0.1759 - val_accuracy: 0.9728\n",
            "Epoch 8/10\n",
            "375/375 [==============================] - 9s 23ms/step - loss: 0.0463 - accuracy: 0.9890 - val_loss: 0.1882 - val_accuracy: 0.9741\n",
            "Epoch 9/10\n",
            "375/375 [==============================] - 8s 20ms/step - loss: 0.0407 - accuracy: 0.9904 - val_loss: 0.2030 - val_accuracy: 0.9770\n",
            "Epoch 10/10\n",
            "375/375 [==============================] - 7s 19ms/step - loss: 0.0356 - accuracy: 0.9915 - val_loss: 0.2392 - val_accuracy: 0.9703\n"
          ]
        },
        {
          "output_type": "execute_result",
          "data": {
            "text/plain": [
              "<keras.src.callbacks.History at 0x794e9827d720>"
            ]
          },
          "metadata": {},
          "execution_count": 7
        }
      ]
    },
    {
      "cell_type": "markdown",
      "source": [
        "rogistic regression-smal-small model\n"
      ],
      "metadata": {
        "id": "liSbb8VzpNBg"
      }
    },
    {
      "cell_type": "code",
      "source": [
        "model=keras.Sequential([layers.Dense(10,activation=\"softmax\")])\n",
        "model.compile(optimizer=\"rmsprop\",\n",
        "              loss=\"sparse_categorical_crossentropy\",\n",
        "              metrics=[\"accuracy\"])\n",
        "history_small_model=model.fit(\n",
        "    train_images,train_labels,\n",
        "    epochs=20,\n",
        "    batch_size=128,\n",
        "    validation_split=0.2)"
      ],
      "metadata": {
        "colab": {
          "base_uri": "https://localhost:8080/"
        },
        "id": "iw9G03y9pQzS",
        "outputId": "cff43507-7d1e-4028-ac26-8532fce198b5"
      },
      "execution_count": null,
      "outputs": [
        {
          "output_type": "stream",
          "name": "stdout",
          "text": [
            "Epoch 1/20\n",
            "375/375 [==============================] - 3s 6ms/step - loss: 0.6659 - accuracy: 0.8394 - val_loss: 0.3580 - val_accuracy: 0.9042\n",
            "Epoch 2/20\n",
            "375/375 [==============================] - 1s 3ms/step - loss: 0.3520 - accuracy: 0.9034 - val_loss: 0.3094 - val_accuracy: 0.9153\n",
            "Epoch 3/20\n",
            "375/375 [==============================] - 1s 3ms/step - loss: 0.3174 - accuracy: 0.9123 - val_loss: 0.2930 - val_accuracy: 0.9193\n",
            "Epoch 4/20\n",
            "375/375 [==============================] - 1s 3ms/step - loss: 0.3016 - accuracy: 0.9162 - val_loss: 0.2852 - val_accuracy: 0.9202\n",
            "Epoch 5/20\n",
            "375/375 [==============================] - 1s 3ms/step - loss: 0.2920 - accuracy: 0.9183 - val_loss: 0.2784 - val_accuracy: 0.9233\n",
            "Epoch 6/20\n",
            "375/375 [==============================] - 1s 3ms/step - loss: 0.2854 - accuracy: 0.9206 - val_loss: 0.2751 - val_accuracy: 0.9243\n",
            "Epoch 7/20\n",
            "375/375 [==============================] - 1s 3ms/step - loss: 0.2805 - accuracy: 0.9218 - val_loss: 0.2740 - val_accuracy: 0.9250\n",
            "Epoch 8/20\n",
            "375/375 [==============================] - 1s 3ms/step - loss: 0.2768 - accuracy: 0.9222 - val_loss: 0.2704 - val_accuracy: 0.9265\n",
            "Epoch 9/20\n",
            "375/375 [==============================] - 1s 3ms/step - loss: 0.2734 - accuracy: 0.9239 - val_loss: 0.2685 - val_accuracy: 0.9262\n",
            "Epoch 10/20\n",
            "375/375 [==============================] - 1s 3ms/step - loss: 0.2710 - accuracy: 0.9246 - val_loss: 0.2676 - val_accuracy: 0.9286\n",
            "Epoch 11/20\n",
            "375/375 [==============================] - 2s 4ms/step - loss: 0.2684 - accuracy: 0.9254 - val_loss: 0.2687 - val_accuracy: 0.9279\n",
            "Epoch 12/20\n",
            "375/375 [==============================] - 1s 4ms/step - loss: 0.2666 - accuracy: 0.9262 - val_loss: 0.2659 - val_accuracy: 0.9277\n",
            "Epoch 13/20\n",
            "375/375 [==============================] - 1s 3ms/step - loss: 0.2648 - accuracy: 0.9268 - val_loss: 0.2663 - val_accuracy: 0.9272\n",
            "Epoch 14/20\n",
            "375/375 [==============================] - 1s 3ms/step - loss: 0.2634 - accuracy: 0.9269 - val_loss: 0.2648 - val_accuracy: 0.9287\n",
            "Epoch 15/20\n",
            "375/375 [==============================] - 1s 3ms/step - loss: 0.2618 - accuracy: 0.9275 - val_loss: 0.2637 - val_accuracy: 0.9287\n",
            "Epoch 16/20\n",
            "375/375 [==============================] - 1s 2ms/step - loss: 0.2603 - accuracy: 0.9288 - val_loss: 0.2640 - val_accuracy: 0.9286\n",
            "Epoch 17/20\n",
            "375/375 [==============================] - 1s 3ms/step - loss: 0.2596 - accuracy: 0.9280 - val_loss: 0.2637 - val_accuracy: 0.9286\n",
            "Epoch 18/20\n",
            "375/375 [==============================] - 1s 3ms/step - loss: 0.2582 - accuracy: 0.9286 - val_loss: 0.2636 - val_accuracy: 0.9291\n",
            "Epoch 19/20\n",
            "375/375 [==============================] - 1s 3ms/step - loss: 0.2571 - accuracy: 0.9294 - val_loss: 0.2636 - val_accuracy: 0.9295\n",
            "Epoch 20/20\n",
            "375/375 [==============================] - 1s 3ms/step - loss: 0.2559 - accuracy: 0.9298 - val_loss: 0.2646 - val_accuracy: 0.9298\n"
          ]
        }
      ]
    },
    {
      "cell_type": "code",
      "source": [
        "import matplotlib.pyplot as plt\n",
        "\n",
        "val_loss=history_small_model.history[\"val_loss\"]\n",
        "epochs=range(1,21)\n",
        "plt.plot(epochs,val_loss,\"b--\",\n",
        "         label=\"Validation loss\")\n",
        "plt.title(\"Effenct of insufficient model capacity on validation loss\")\n",
        "plt.xlabel(\"Epochs\")\n",
        "plt.ylabel(\"Loss\")\n",
        "plt.legend()\n",
        "plt.show()"
      ],
      "metadata": {
        "colab": {
          "base_uri": "https://localhost:8080/",
          "height": 472
        },
        "id": "mghTPFrKqWOB",
        "outputId": "328a44e3-51a4-4714-d8c3-4f77125c2f5f"
      },
      "execution_count": null,
      "outputs": [
        {
          "output_type": "display_data",
          "data": {
            "text/plain": [
              "<Figure size 640x480 with 1 Axes>"
            ],
            "image/png": "[encoded data removed]"
          },
          "metadata": {}
        }
      ]
    },
    {
      "cell_type": "markdown",
      "source": [
        "->과대적합하도록 모델 용량 늘리기"
      ],
      "metadata": {
        "id": "DScNgfcWsYjl"
      }
    },
    {
      "cell_type": "code",
      "source": [
        "model=keras.Sequential([\n",
        "    layers.Dense(96,activation=\"relu\"),\n",
        "    layers.Dense(96,activation=\"relu\"),\n",
        "    layers.Dense(10,activation=\"softmax\")\n",
        "    ])\n",
        "model.compile(optimizer=\"rmsprop\",\n",
        "              loss=\"sparse_categorical_crossentropy\",\n",
        "              metrics=[\"accuracy\"])\n",
        "history_small_model=model.fit(\n",
        "    train_images,train_labels,\n",
        "    epochs=20,\n",
        "    batch_size=128,\n",
        "    validation_split=0.2)"
      ],
      "metadata": {
        "colab": {
          "base_uri": "https://localhost:8080/"
        },
        "id": "SLOI5bF5smOE",
        "outputId": "1894fffb-6aa6-44cc-c1e6-250f543eef53"
      },
      "execution_count": null,
      "outputs": [
        {
          "output_type": "stream",
          "name": "stdout",
          "text": [
            "Epoch 1/20\n",
            "375/375 [==============================] - 3s 6ms/step - loss: 0.3634 - accuracy: 0.8956 - val_loss: 0.1859 - val_accuracy: 0.9488\n",
            "Epoch 2/20\n",
            "375/375 [==============================] - 2s 6ms/step - loss: 0.1619 - accuracy: 0.9516 - val_loss: 0.1305 - val_accuracy: 0.9611\n",
            "Epoch 3/20\n",
            "375/375 [==============================] - 2s 4ms/step - loss: 0.1147 - accuracy: 0.9657 - val_loss: 0.1176 - val_accuracy: 0.9638\n",
            "Epoch 4/20\n",
            "375/375 [==============================] - 3s 8ms/step - loss: 0.0882 - accuracy: 0.9734 - val_loss: 0.1156 - val_accuracy: 0.9652\n",
            "Epoch 5/20\n",
            "375/375 [==============================] - 2s 5ms/step - loss: 0.0700 - accuracy: 0.9788 - val_loss: 0.0953 - val_accuracy: 0.9732\n",
            "Epoch 6/20\n",
            "375/375 [==============================] - 2s 4ms/step - loss: 0.0575 - accuracy: 0.9824 - val_loss: 0.0943 - val_accuracy: 0.9719\n",
            "Epoch 7/20\n",
            "375/375 [==============================] - 2s 5ms/step - loss: 0.0463 - accuracy: 0.9860 - val_loss: 0.0953 - val_accuracy: 0.9727\n",
            "Epoch 8/20\n",
            "375/375 [==============================] - 2s 6ms/step - loss: 0.0395 - accuracy: 0.9876 - val_loss: 0.0928 - val_accuracy: 0.9747\n",
            "Epoch 9/20\n",
            "375/375 [==============================] - 2s 4ms/step - loss: 0.0332 - accuracy: 0.9899 - val_loss: 0.0956 - val_accuracy: 0.9745\n",
            "Epoch 10/20\n",
            "375/375 [==============================] - 2s 4ms/step - loss: 0.0280 - accuracy: 0.9918 - val_loss: 0.0936 - val_accuracy: 0.9749\n",
            "Epoch 11/20\n",
            "375/375 [==============================] - 2s 5ms/step - loss: 0.0231 - accuracy: 0.9930 - val_loss: 0.1002 - val_accuracy: 0.9728\n",
            "Epoch 12/20\n",
            "375/375 [==============================] - 2s 4ms/step - loss: 0.0200 - accuracy: 0.9940 - val_loss: 0.0989 - val_accuracy: 0.9769\n",
            "Epoch 13/20\n",
            "375/375 [==============================] - 2s 4ms/step - loss: 0.0168 - accuracy: 0.9950 - val_loss: 0.1010 - val_accuracy: 0.9765\n",
            "Epoch 14/20\n",
            "375/375 [==============================] - 2s 6ms/step - loss: 0.0140 - accuracy: 0.9958 - val_loss: 0.1047 - val_accuracy: 0.9762\n",
            "Epoch 15/20\n",
            "375/375 [==============================] - 2s 6ms/step - loss: 0.0121 - accuracy: 0.9965 - val_loss: 0.1097 - val_accuracy: 0.9753\n",
            "Epoch 16/20\n",
            "375/375 [==============================] - 2s 4ms/step - loss: 0.0100 - accuracy: 0.9970 - val_loss: 0.1077 - val_accuracy: 0.9777\n",
            "Epoch 17/20\n",
            "375/375 [==============================] - 2s 5ms/step - loss: 0.0084 - accuracy: 0.9974 - val_loss: 0.1223 - val_accuracy: 0.9754\n",
            "Epoch 18/20\n",
            "375/375 [==============================] - 2s 5ms/step - loss: 0.0077 - accuracy: 0.9976 - val_loss: 0.1219 - val_accuracy: 0.9759\n",
            "Epoch 19/20\n",
            "375/375 [==============================] - 2s 4ms/step - loss: 0.0062 - accuracy: 0.9982 - val_loss: 0.1214 - val_accuracy: 0.9750\n",
            "Epoch 20/20\n",
            "375/375 [==============================] - 2s 4ms/step - loss: 0.0053 - accuracy: 0.9983 - val_loss: 0.1288 - val_accuracy: 0.9766\n"
          ]
        }
      ]
    },
    {
      "cell_type": "code",
      "source": [
        "import matplotlib.pyplot as plt\n",
        "\n",
        "val_loss=history_small_model.history[\"val_loss\"]\n",
        "epochs=range(1,21)\n",
        "plt.plot(epochs,val_loss,\"b--\",\n",
        "         label=\"Validation loss\")\n",
        "plt.title(\"Effenct of insufficient model capacity on validation loss\")\n",
        "plt.xlabel(\"Epochs\")\n",
        "plt.ylabel(\"Loss\")\n",
        "plt.legend()\n",
        "plt.show()"
      ],
      "metadata": {
        "colab": {
          "base_uri": "https://localhost:8080/",
          "height": 472
        },
        "id": "2Bz0HEIAs8rL",
        "outputId": "aad3afcd-9175-4ecf-8569-f911f2c23af1"
      },
      "execution_count": null,
      "outputs": [
        {
          "output_type": "display_data",
          "data": {
            "text/plain": [
              "<Figure size 640x480 with 1 Axes>"
            ],
            "image/png": "[encoded data removed]"
          },
          "metadata": {}
        }
      ]
    },
    {
      "cell_type": "markdown",
      "source": [
        "모델 규제하기-영화 리뷰 분류 모델"
      ],
      "metadata": {
        "id": "yTkukYUFtNR_"
      }
    },
    {
      "cell_type": "code",
      "source": [
        "from tensorflow.keras.datasets import imdb\n",
        "(train_data,train_labels),_=imdb.load_data(num_words=10000)\n",
        "\n",
        "def vectorize_sequences(sequences, dimension=10000):\n",
        "  results=np.zeros((len(sequences),dimension))\n",
        "  for i,sequences in enumerate(sequences):\n",
        "    results[i,sequences]=1.\n",
        "  return results\n",
        "train_data=vectorize_sequences(train_data)\n",
        "\n",
        "model=keras.Sequential([\n",
        "    layers.Dense(16,activation=\"relu\"),\n",
        "    layers.Dense(16,activation=\"relu\"),\n",
        "    layers.Dense(1,activation=\"sigmoid\")\n",
        "])\n",
        "model.compile(optimizer=\"rmsprop\",\n",
        "              loss=\"binary_crossentropy\",\n",
        "              metrics=[\"accuracy\"])\n",
        "history_original=model.fit(\n",
        "    train_data,train_labels,\n",
        "    epochs=20,\n",
        "    batch_size=512,\n",
        "    validation_split=0.4)"
      ],
      "metadata": {
        "colab": {
          "base_uri": "https://localhost:8080/"
        },
        "id": "D7fzMjcEtRBn",
        "outputId": "51ff5412-5c60-4703-ae3f-0693c5201590"
      },
      "execution_count": null,
      "outputs": [
        {
          "output_type": "stream",
          "name": "stdout",
          "text": [
            "Epoch 1/20\n",
            "30/30 [==============================] - 4s 96ms/step - loss: 0.5041 - accuracy: 0.7803 - val_loss: 0.3811 - val_accuracy: 0.8706\n",
            "Epoch 2/20\n",
            "30/30 [==============================] - 2s 56ms/step - loss: 0.3093 - accuracy: 0.8965 - val_loss: 0.3042 - val_accuracy: 0.8878\n",
            "Epoch 3/20\n",
            "30/30 [==============================] - 1s 35ms/step - loss: 0.2353 - accuracy: 0.9212 - val_loss: 0.2825 - val_accuracy: 0.8916\n",
            "Epoch 4/20\n",
            "30/30 [==============================] - 1s 35ms/step - loss: 0.1863 - accuracy: 0.9394 - val_loss: 0.2740 - val_accuracy: 0.8929\n",
            "Epoch 5/20\n",
            "30/30 [==============================] - 1s 34ms/step - loss: 0.1564 - accuracy: 0.9489 - val_loss: 0.3006 - val_accuracy: 0.8809\n",
            "Epoch 6/20\n",
            "30/30 [==============================] - 2s 60ms/step - loss: 0.1328 - accuracy: 0.9585 - val_loss: 0.3189 - val_accuracy: 0.8766\n",
            "Epoch 7/20\n",
            "30/30 [==============================] - 1s 36ms/step - loss: 0.1141 - accuracy: 0.9645 - val_loss: 0.3008 - val_accuracy: 0.8857\n",
            "Epoch 8/20\n",
            "30/30 [==============================] - 1s 33ms/step - loss: 0.0998 - accuracy: 0.9700 - val_loss: 0.3163 - val_accuracy: 0.8838\n",
            "Epoch 9/20\n",
            "30/30 [==============================] - 1s 36ms/step - loss: 0.0802 - accuracy: 0.9790 - val_loss: 0.3360 - val_accuracy: 0.8823\n",
            "Epoch 10/20\n",
            "30/30 [==============================] - 1s 35ms/step - loss: 0.0739 - accuracy: 0.9797 - val_loss: 0.3509 - val_accuracy: 0.8805\n",
            "Epoch 11/20\n",
            "30/30 [==============================] - 1s 47ms/step - loss: 0.0596 - accuracy: 0.9863 - val_loss: 0.3727 - val_accuracy: 0.8781\n",
            "Epoch 12/20\n",
            "30/30 [==============================] - 2s 57ms/step - loss: 0.0583 - accuracy: 0.9848 - val_loss: 0.3965 - val_accuracy: 0.8778\n",
            "Epoch 13/20\n",
            "30/30 [==============================] - 2s 68ms/step - loss: 0.0441 - accuracy: 0.9915 - val_loss: 0.4123 - val_accuracy: 0.8761\n",
            "Epoch 14/20\n",
            "30/30 [==============================] - 3s 85ms/step - loss: 0.0408 - accuracy: 0.9908 - val_loss: 0.4361 - val_accuracy: 0.8741\n",
            "Epoch 15/20\n",
            "30/30 [==============================] - 2s 62ms/step - loss: 0.0337 - accuracy: 0.9936 - val_loss: 0.4720 - val_accuracy: 0.8749\n",
            "Epoch 16/20\n",
            "30/30 [==============================] - 1s 37ms/step - loss: 0.0291 - accuracy: 0.9943 - val_loss: 0.5032 - val_accuracy: 0.8732\n",
            "Epoch 17/20\n",
            "30/30 [==============================] - 1s 40ms/step - loss: 0.0268 - accuracy: 0.9941 - val_loss: 0.5002 - val_accuracy: 0.8729\n",
            "Epoch 18/20\n",
            "30/30 [==============================] - 1s 34ms/step - loss: 0.0209 - accuracy: 0.9967 - val_loss: 0.5252 - val_accuracy: 0.8716\n",
            "Epoch 19/20\n",
            "30/30 [==============================] - 2s 53ms/step - loss: 0.0166 - accuracy: 0.9979 - val_loss: 0.5577 - val_accuracy: 0.8710\n",
            "Epoch 20/20\n",
            "30/30 [==============================] - 1s 48ms/step - loss: 0.0152 - accuracy: 0.9980 - val_loss: 0.5779 - val_accuracy: 0.8699\n"
          ]
        }
      ]
    },
    {
      "cell_type": "markdown",
      "source": [
        "더 작은 용량의 모델"
      ],
      "metadata": {
        "id": "v56NGunaugG8"
      }
    },
    {
      "cell_type": "code",
      "source": [
        "model=keras.Sequential([\n",
        "    layers.Dense(4,activation=\"relu\"),\n",
        "    layers.Dense(4,activation=\"relu\"),\n",
        "    layers.Dense(1,activation=\"sigmoid\")\n",
        "])\n",
        "model.compile(optimizer=\"rmsprop\",\n",
        "              loss=\"binary_crossentropy\",\n",
        "              metrics=[\"accuracy\"])\n",
        "history_smaller_model=model.fit(\n",
        "    train_data,train_labels,\n",
        "    epochs=20,\n",
        "    batch_size=512,\n",
        "    validation_split=0.4)"
      ],
      "metadata": {
        "colab": {
          "base_uri": "https://localhost:8080/"
        },
        "id": "StDpIl9iukAQ",
        "outputId": "5ee782cd-cd0b-4860-94f2-2ebc0bed066e"
      },
      "execution_count": null,
      "outputs": [
        {
          "output_type": "stream",
          "name": "stdout",
          "text": [
            "Epoch 1/20\n",
            "30/30 [==============================] - 3s 88ms/step - loss: 0.6325 - accuracy: 0.6519 - val_loss: 0.5716 - val_accuracy: 0.7327\n",
            "Epoch 2/20\n",
            "30/30 [==============================] - 1s 33ms/step - loss: 0.5272 - accuracy: 0.8165 - val_loss: 0.5026 - val_accuracy: 0.8164\n",
            "Epoch 3/20\n",
            "30/30 [==============================] - 1s 31ms/step - loss: 0.4524 - accuracy: 0.8777 - val_loss: 0.4468 - val_accuracy: 0.8557\n",
            "Epoch 4/20\n",
            "30/30 [==============================] - 1s 34ms/step - loss: 0.3880 - accuracy: 0.9062 - val_loss: 0.4078 - val_accuracy: 0.8553\n",
            "Epoch 5/20\n",
            "30/30 [==============================] - 1s 34ms/step - loss: 0.3305 - accuracy: 0.9277 - val_loss: 0.3712 - val_accuracy: 0.8659\n",
            "Epoch 6/20\n",
            "30/30 [==============================] - 1s 32ms/step - loss: 0.2809 - accuracy: 0.9377 - val_loss: 0.3277 - val_accuracy: 0.8909\n",
            "Epoch 7/20\n",
            "30/30 [==============================] - 1s 32ms/step - loss: 0.2391 - accuracy: 0.9464 - val_loss: 0.3062 - val_accuracy: 0.8913\n",
            "Epoch 8/20\n",
            "30/30 [==============================] - 1s 30ms/step - loss: 0.2062 - accuracy: 0.9524 - val_loss: 0.2968 - val_accuracy: 0.8889\n",
            "Epoch 9/20\n",
            "30/30 [==============================] - 1s 32ms/step - loss: 0.1812 - accuracy: 0.9568 - val_loss: 0.2882 - val_accuracy: 0.8888\n",
            "Epoch 10/20\n",
            "30/30 [==============================] - 1s 33ms/step - loss: 0.1595 - accuracy: 0.9619 - val_loss: 0.2826 - val_accuracy: 0.8890\n",
            "Epoch 11/20\n",
            "30/30 [==============================] - 1s 34ms/step - loss: 0.1410 - accuracy: 0.9659 - val_loss: 0.2836 - val_accuracy: 0.8882\n",
            "Epoch 12/20\n",
            "30/30 [==============================] - 1s 46ms/step - loss: 0.1271 - accuracy: 0.9696 - val_loss: 0.2877 - val_accuracy: 0.8873\n",
            "Epoch 13/20\n",
            "30/30 [==============================] - 2s 52ms/step - loss: 0.1141 - accuracy: 0.9725 - val_loss: 0.2957 - val_accuracy: 0.8866\n",
            "Epoch 14/20\n",
            "30/30 [==============================] - 1s 31ms/step - loss: 0.1045 - accuracy: 0.9752 - val_loss: 0.2991 - val_accuracy: 0.8841\n",
            "Epoch 15/20\n",
            "30/30 [==============================] - 1s 33ms/step - loss: 0.0943 - accuracy: 0.9785 - val_loss: 0.3120 - val_accuracy: 0.8836\n",
            "Epoch 16/20\n",
            "30/30 [==============================] - 1s 30ms/step - loss: 0.0875 - accuracy: 0.9812 - val_loss: 0.3194 - val_accuracy: 0.8824\n",
            "Epoch 17/20\n",
            "30/30 [==============================] - 1s 30ms/step - loss: 0.0790 - accuracy: 0.9837 - val_loss: 0.3272 - val_accuracy: 0.8825\n",
            "Epoch 18/20\n",
            "30/30 [==============================] - 1s 33ms/step - loss: 0.0727 - accuracy: 0.9859 - val_loss: 0.3773 - val_accuracy: 0.8720\n",
            "Epoch 19/20\n",
            "30/30 [==============================] - 1s 33ms/step - loss: 0.0672 - accuracy: 0.9873 - val_loss: 0.3513 - val_accuracy: 0.8791\n",
            "Epoch 20/20\n",
            "30/30 [==============================] - 1s 32ms/step - loss: 0.0607 - accuracy: 0.9893 - val_loss: 0.3654 - val_accuracy: 0.8782\n"
          ]
        }
      ]
    }
  ]
}